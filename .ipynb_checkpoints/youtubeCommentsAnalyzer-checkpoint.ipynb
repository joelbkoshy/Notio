{
 "cells": [
  {
   "cell_type": "code",
   "execution_count": 2,
   "id": "0dd143c1",
   "metadata": {},
   "outputs": [],
   "source": [
    "from selenium import webdriver\n",
    "from selenium.webdriver.common.by import By"
   ]
  },
  {
   "cell_type": "code",
   "execution_count": 3,
   "id": "eaa7f6fa",
   "metadata": {},
   "outputs": [
    {
     "name": "stdout",
     "output_type": "stream",
     "text": [
      "Enter the link : https://www.youtube.com/watch?v=lfkjm2YRG-Q\n"
     ]
    }
   ],
   "source": [
    "url = input(\"Enter the link : \")\n",
    "driver = webdriver.Chrome()\n",
    "driver.get(url)"
   ]
  },
  {
   "cell_type": "code",
   "execution_count": 5,
   "id": "7ff6e243",
   "metadata": {},
   "outputs": [
    {
     "name": "stdout",
     "output_type": "stream",
     "text": [
      "['Veratasium in 2050: We made nuclear weapons to explain every aspects of it', 'Those drone shots were almost as though the drone was flying through the universe and passing around stars, it was so cool', 'This is not a YouTube video... This is a mini high quality film. What an outstanding production level here!. Congrats Derek and V team', \"It surprises me how effective and mesmerizing those drone shots were given how simple the footage was itself. \\nNot to downplay pyrotechnics or expert level drone piloting, a black backdrop and soaring balls of fire viewed from a flying perspective seems like something that wouldn't be too difficult to render. Yet, the result feels like something special and nothing like your run of the mill CGI effects. \", 'i particularly like the way that during his experiments with black powder Derek keeps all the flammable ingredients a few inches from the burning powder train.', 'Probably the best educational storytelling video on YouTube currently. So well made, well paced and well, everything!', 'Those drone shots were epic!', 'Those drone shots were unreal! What a great video. Big kudos to Derek and the whole team. That pyrotechnician was great at explaining as well', 'With such professional and in-depth coverage, Derek is creating a Legacy with every video he makes. \\nFor generations to come...', 'Having been part of pyro crews and watched the show from ground zero, as well as the normal crowd view, that drone footage from within the cloud of shells was simply beautiful.', 'The amount of effort that goes into making these videos is so inspiring.', 'Loving the frequency of uploads in this channel. The quality AND quantity here is amazing.', 'Hell yeah! Thanks for letting me fly through the finale!! Biggest Adrenalin rush while flying ever! Felt like I was in Star Trek or something!', 'My favorite thing about Veritasium is him reffing to his content not as just a video but a SHOW... it really goes to show his effort and passion investment into this channel', 'I absolutely love the enthusiasm and excitement in this video, can tell Derek genuinely loved making this', \"As a pyrotechnician, this video was great! \\nI'd find it interesting if you'd put more light on different fuses (single/multi core) because the chemistry and physics in those are just fascinating.\", 'That was a really beautiful video to watch, I hope you can do something similar next year again (maybe like the next gen evolution of traditional fireworks, if it exists)', \"I've never seen Dereck so happy and energized during a project like this! \", \"i haven't actually thought about the amount of effort put into all these videos until now. this one was truly incredible, so were all the other videos! thank y'all so much!\", 'This taught me everything about fireworks I’ve wanted to know my entire life… but never looked up on my own. I had no idea what the inside of fireworks even looked like    or how they were even launched!']\n"
     ]
    }
   ],
   "source": [
    "comments = driver.find_elements(By.CLASS_NAME, \"style-scope ytd-comment-renderer\")\n",
    "# print(comments)\n",
    "final=[]\n",
    "i=0;\n",
    "for comment in comments:\n",
    "    comString = comment.find_elements(By.ID, 'content-text')\n",
    "    for com in comString:\n",
    "        i=i+1\n",
    "        final.append(com.text)\n",
    "print(final)"
   ]
  },
  {
   "cell_type": "code",
   "execution_count": 6,
   "id": "96a177ce",
   "metadata": {},
   "outputs": [
    {
     "name": "stderr",
     "output_type": "stream",
     "text": [
      "[nltk_data] Downloading package vader_lexicon to\n",
      "[nltk_data]     C:\\Users\\joelb\\AppData\\Roaming\\nltk_data...\n",
      "[nltk_data]   Package vader_lexicon is already up-to-date!\n",
      "[nltk_data] Downloading package punkt to\n",
      "[nltk_data]     C:\\Users\\joelb\\AppData\\Roaming\\nltk_data...\n",
      "[nltk_data]   Package punkt is already up-to-date!\n"
     ]
    },
    {
     "data": {
      "text/plain": [
       "True"
      ]
     },
     "execution_count": 6,
     "metadata": {},
     "output_type": "execute_result"
    }
   ],
   "source": [
    "import nltk\n",
    "from nltk.sentiment import SentimentIntensityAnalyzer\n",
    "nltk.download('vader_lexicon')\n",
    "nltk.download('punkt')"
   ]
  },
  {
   "cell_type": "code",
   "execution_count": 7,
   "id": "e247096f",
   "metadata": {},
   "outputs": [],
   "source": [
    "from nltk.tokenize import word_tokenize"
   ]
  },
  {
   "cell_type": "code",
   "execution_count": 8,
   "id": "0195c574",
   "metadata": {},
   "outputs": [],
   "source": [
    "tokenised_comments=[]\n",
    "for comment in final:\n",
    "    comment_tokens=word_tokenize(comment)\n",
    "    tokenised_comments.append(comment_tokens)"
   ]
  },
  {
   "cell_type": "code",
   "execution_count": 9,
   "id": "51509212",
   "metadata": {},
   "outputs": [
    {
     "name": "stdout",
     "output_type": "stream",
     "text": [
      "[['Veratasium', 'in', '2050', ':', 'We', 'made', 'nuclear', 'weapons', 'to', 'explain', 'every', 'aspects', 'of', 'it'], ['Those', 'drone', 'shots', 'were', 'almost', 'as', 'though', 'the', 'drone', 'was', 'flying', 'through', 'the', 'universe', 'and', 'passing', 'around', 'stars', ',', 'it', 'was', 'so', 'cool'], ['This', 'is', 'not', 'a', 'YouTube', 'video', '...', 'This', 'is', 'a', 'mini', 'high', 'quality', 'film', '.', 'What', 'an', 'outstanding', 'production', 'level', 'here', '!', '.', 'Congrats', 'Derek', 'and', 'V', 'team'], ['It', 'surprises', 'me', 'how', 'effective', 'and', 'mesmerizing', 'those', 'drone', 'shots', 'were', 'given', 'how', 'simple', 'the', 'footage', 'was', 'itself', '.', 'Not', 'to', 'downplay', 'pyrotechnics', 'or', 'expert', 'level', 'drone', 'piloting', ',', 'a', 'black', 'backdrop', 'and', 'soaring', 'balls', 'of', 'fire', 'viewed', 'from', 'a', 'flying', 'perspective', 'seems', 'like', 'something', 'that', 'would', \"n't\", 'be', 'too', 'difficult', 'to', 'render', '.', 'Yet', ',', 'the', 'result', 'feels', 'like', 'something', 'special', 'and', 'nothing', 'like', 'your', 'run', 'of', 'the', 'mill', 'CGI', 'effects', '.'], ['i', 'particularly', 'like', 'the', 'way', 'that', 'during', 'his', 'experiments', 'with', 'black', 'powder', 'Derek', 'keeps', 'all', 'the', 'flammable', 'ingredients', 'a', 'few', 'inches', 'from', 'the', 'burning', 'powder', 'train', '.'], ['Probably', 'the', 'best', 'educational', 'storytelling', 'video', 'on', 'YouTube', 'currently', '.', 'So', 'well', 'made', ',', 'well', 'paced', 'and', 'well', ',', 'everything', '!'], ['Those', 'drone', 'shots', 'were', 'epic', '!'], ['Those', 'drone', 'shots', 'were', 'unreal', '!', 'What', 'a', 'great', 'video', '.', 'Big', 'kudos', 'to', 'Derek', 'and', 'the', 'whole', 'team', '.', 'That', 'pyrotechnician', 'was', 'great', 'at', 'explaining', 'as', 'well'], ['With', 'such', 'professional', 'and', 'in-depth', 'coverage', ',', 'Derek', 'is', 'creating', 'a', 'Legacy', 'with', 'every', 'video', 'he', 'makes', '.', 'For', 'generations', 'to', 'come', '...'], ['Having', 'been', 'part', 'of', 'pyro', 'crews', 'and', 'watched', 'the', 'show', 'from', 'ground', 'zero', ',', 'as', 'well', 'as', 'the', 'normal', 'crowd', 'view', ',', 'that', 'drone', 'footage', 'from', 'within', 'the', 'cloud', 'of', 'shells', 'was', 'simply', 'beautiful', '.'], ['The', 'amount', 'of', 'effort', 'that', 'goes', 'into', 'making', 'these', 'videos', 'is', 'so', 'inspiring', '.'], ['Loving', 'the', 'frequency', 'of', 'uploads', 'in', 'this', 'channel', '.', 'The', 'quality', 'AND', 'quantity', 'here', 'is', 'amazing', '.'], ['Hell', 'yeah', '!', 'Thanks', 'for', 'letting', 'me', 'fly', 'through', 'the', 'finale', '!', '!', 'Biggest', 'Adrenalin', 'rush', 'while', 'flying', 'ever', '!', 'Felt', 'like', 'I', 'was', 'in', 'Star', 'Trek', 'or', 'something', '!'], ['My', 'favorite', 'thing', 'about', 'Veritasium', 'is', 'him', 'reffing', 'to', 'his', 'content', 'not', 'as', 'just', 'a', 'video', 'but', 'a', 'SHOW', '...', 'it', 'really', 'goes', 'to', 'show', 'his', 'effort', 'and', 'passion', 'investment', 'into', 'this', 'channel'], ['I', 'absolutely', 'love', 'the', 'enthusiasm', 'and', 'excitement', 'in', 'this', 'video', ',', 'can', 'tell', 'Derek', 'genuinely', 'loved', 'making', 'this'], ['As', 'a', 'pyrotechnician', ',', 'this', 'video', 'was', 'great', '!', 'I', \"'d\", 'find', 'it', 'interesting', 'if', 'you', \"'d\", 'put', 'more', 'light', 'on', 'different', 'fuses', '(', 'single/multi', 'core', ')', 'because', 'the', 'chemistry', 'and', 'physics', 'in', 'those', 'are', 'just', 'fascinating', '.'], ['That', 'was', 'a', 'really', 'beautiful', 'video', 'to', 'watch', ',', 'I', 'hope', 'you', 'can', 'do', 'something', 'similar', 'next', 'year', 'again', '(', 'maybe', 'like', 'the', 'next', 'gen', 'evolution', 'of', 'traditional', 'fireworks', ',', 'if', 'it', 'exists', ')'], ['I', \"'ve\", 'never', 'seen', 'Dereck', 'so', 'happy', 'and', 'energized', 'during', 'a', 'project', 'like', 'this', '!'], ['i', 'have', \"n't\", 'actually', 'thought', 'about', 'the', 'amount', 'of', 'effort', 'put', 'into', 'all', 'these', 'videos', 'until', 'now', '.', 'this', 'one', 'was', 'truly', 'incredible', ',', 'so', 'were', 'all', 'the', 'other', 'videos', '!', 'thank', \"y'all\", 'so', 'much', '!'], ['This', 'taught', 'me', 'everything', 'about', 'fireworks', 'I', '’', 've', 'wanted', 'to', 'know', 'my', 'entire', 'life…', 'but', 'never', 'looked', 'up', 'on', 'my', 'own', '.', 'I', 'had', 'no', 'idea', 'what', 'the', 'inside', 'of', 'fireworks', 'even', 'looked', 'like', 'or', 'how', 'they', 'were', 'even', 'launched', '!']]\n"
     ]
    }
   ],
   "source": [
    "# Tokenised comments\n",
    "print(tokenised_comments)"
   ]
  },
  {
   "cell_type": "code",
   "execution_count": 10,
   "id": "6283e533",
   "metadata": {},
   "outputs": [
    {
     "name": "stderr",
     "output_type": "stream",
     "text": [
      "[nltk_data] Downloading package stopwords to\n",
      "[nltk_data]     C:\\Users\\joelb\\AppData\\Roaming\\nltk_data...\n",
      "[nltk_data]   Package stopwords is already up-to-date!\n"
     ]
    }
   ],
   "source": [
    "nltk.download('stopwords')\n",
    "from nltk.corpus import stopwords"
   ]
  },
  {
   "cell_type": "code",
   "execution_count": 11,
   "id": "b924e692",
   "metadata": {},
   "outputs": [],
   "source": [
    "stop_words = set(stopwords.words('english'))"
   ]
  },
  {
   "cell_type": "code",
   "execution_count": 12,
   "id": "01631c5a",
   "metadata": {},
   "outputs": [
    {
     "name": "stdout",
     "output_type": "stream",
     "text": [
      "[['Veratasium', '2050', ':', 'made', 'nuclear', 'weapons', 'explain', 'every', 'aspects'], ['drone', 'shots', 'almost', 'though', 'drone', 'flying', 'universe', 'passing', 'around', 'stars', ',', 'cool'], ['YouTube', 'video', '...', 'mini', 'high', 'quality', 'film', '.', 'outstanding', 'production', 'level', '!', '.', 'Congrats', 'Derek', 'V', 'team'], ['surprises', 'effective', 'mesmerizing', 'drone', 'shots', 'given', 'simple', 'footage', '.', 'downplay', 'pyrotechnics', 'expert', 'level', 'drone', 'piloting', ',', 'black', 'backdrop', 'soaring', 'balls', 'fire', 'viewed', 'flying', 'perspective', 'seems', 'like', 'something', 'would', \"n't\", 'difficult', 'render', '.', 'Yet', ',', 'result', 'feels', 'like', 'something', 'special', 'nothing', 'like', 'run', 'mill', 'CGI', 'effects', '.'], ['particularly', 'like', 'way', 'experiments', 'black', 'powder', 'Derek', 'keeps', 'flammable', 'ingredients', 'inches', 'burning', 'powder', 'train', '.'], ['Probably', 'best', 'educational', 'storytelling', 'video', 'YouTube', 'currently', '.', 'well', 'made', ',', 'well', 'paced', 'well', ',', 'everything', '!'], ['drone', 'shots', 'epic', '!'], ['drone', 'shots', 'unreal', '!', 'great', 'video', '.', 'Big', 'kudos', 'Derek', 'whole', 'team', '.', 'pyrotechnician', 'great', 'explaining', 'well'], ['professional', 'in-depth', 'coverage', ',', 'Derek', 'creating', 'Legacy', 'every', 'video', 'makes', '.', 'generations', 'come', '...'], ['part', 'pyro', 'crews', 'watched', 'show', 'ground', 'zero', ',', 'well', 'normal', 'crowd', 'view', ',', 'drone', 'footage', 'within', 'cloud', 'shells', 'simply', 'beautiful', '.'], ['amount', 'effort', 'goes', 'making', 'videos', 'inspiring', '.'], ['Loving', 'frequency', 'uploads', 'channel', '.', 'quality', 'quantity', 'amazing', '.'], ['Hell', 'yeah', '!', 'Thanks', 'letting', 'fly', 'finale', '!', '!', 'Biggest', 'Adrenalin', 'rush', 'flying', 'ever', '!', 'Felt', 'like', 'Star', 'Trek', 'something', '!'], ['favorite', 'thing', 'Veritasium', 'reffing', 'content', 'video', 'SHOW', '...', 'really', 'goes', 'show', 'effort', 'passion', 'investment', 'channel'], ['absolutely', 'love', 'enthusiasm', 'excitement', 'video', ',', 'tell', 'Derek', 'genuinely', 'loved', 'making'], ['pyrotechnician', ',', 'video', 'great', '!', \"'d\", 'find', 'interesting', \"'d\", 'put', 'light', 'different', 'fuses', '(', 'single/multi', 'core', ')', 'chemistry', 'physics', 'fascinating', '.'], ['really', 'beautiful', 'video', 'watch', ',', 'hope', 'something', 'similar', 'next', 'year', '(', 'maybe', 'like', 'next', 'gen', 'evolution', 'traditional', 'fireworks', ',', 'exists', ')'], [\"'ve\", 'never', 'seen', 'Dereck', 'happy', 'energized', 'project', 'like', '!'], [\"n't\", 'actually', 'thought', 'amount', 'effort', 'put', 'videos', '.', 'one', 'truly', 'incredible', ',', 'videos', '!', 'thank', \"y'all\", 'much', '!'], ['taught', 'everything', 'fireworks', '’', 'wanted', 'know', 'entire', 'life…', 'never', 'looked', '.', 'idea', 'inside', 'fireworks', 'even', 'looked', 'like', 'even', 'launched', '!']]\n"
     ]
    }
   ],
   "source": [
    "filtered_comments = []\n",
    "\n",
    "for tokenised_comment in tokenised_comments:\n",
    "    filtered_tokens = [token for token in tokenised_comment if token.lower() not in stop_words]\n",
    "    filtered_comments.append(filtered_tokens)\n",
    "    \n",
    "print(filtered_comments)"
   ]
  },
  {
   "cell_type": "code",
   "execution_count": 13,
   "id": "babcd781",
   "metadata": {},
   "outputs": [
    {
     "name": "stderr",
     "output_type": "stream",
     "text": [
      "[nltk_data] Downloading package wordnet to\n",
      "[nltk_data]     C:\\Users\\joelb\\AppData\\Roaming\\nltk_data...\n",
      "[nltk_data]   Package wordnet is already up-to-date!\n"
     ]
    },
    {
     "data": {
      "text/plain": [
       "True"
      ]
     },
     "execution_count": 13,
     "metadata": {},
     "output_type": "execute_result"
    }
   ],
   "source": [
    "from nltk.stem import WordNetLemmatizer\n",
    "nltk.download('wordnet')"
   ]
  },
  {
   "cell_type": "code",
   "execution_count": 14,
   "id": "7f18b578",
   "metadata": {},
   "outputs": [],
   "source": [
    "lemmatizer = WordNetLemmatizer()\n",
    "lemmatized_comments = []"
   ]
  },
  {
   "cell_type": "code",
   "execution_count": 15,
   "id": "1e0926cb",
   "metadata": {},
   "outputs": [],
   "source": [
    "for filtered_comment in filtered_comments:\n",
    "    lemmatized_tokens = [lemmatizer.lemmatize(token) for token in filtered_comment]\n",
    "    lemmatized_comments.append(lemmatized_tokens)"
   ]
  },
  {
   "cell_type": "code",
   "execution_count": 16,
   "id": "8850e3f4",
   "metadata": {},
   "outputs": [
    {
     "name": "stdout",
     "output_type": "stream",
     "text": [
      "[['Veratasium', '2050', ':', 'made', 'nuclear', 'weapon', 'explain', 'every', 'aspect'], ['drone', 'shot', 'almost', 'though', 'drone', 'flying', 'universe', 'passing', 'around', 'star', ',', 'cool'], ['YouTube', 'video', '...', 'mini', 'high', 'quality', 'film', '.', 'outstanding', 'production', 'level', '!', '.', 'Congrats', 'Derek', 'V', 'team'], ['surprise', 'effective', 'mesmerizing', 'drone', 'shot', 'given', 'simple', 'footage', '.', 'downplay', 'pyrotechnic', 'expert', 'level', 'drone', 'piloting', ',', 'black', 'backdrop', 'soaring', 'ball', 'fire', 'viewed', 'flying', 'perspective', 'seems', 'like', 'something', 'would', \"n't\", 'difficult', 'render', '.', 'Yet', ',', 'result', 'feel', 'like', 'something', 'special', 'nothing', 'like', 'run', 'mill', 'CGI', 'effect', '.'], ['particularly', 'like', 'way', 'experiment', 'black', 'powder', 'Derek', 'keep', 'flammable', 'ingredient', 'inch', 'burning', 'powder', 'train', '.'], ['Probably', 'best', 'educational', 'storytelling', 'video', 'YouTube', 'currently', '.', 'well', 'made', ',', 'well', 'paced', 'well', ',', 'everything', '!'], ['drone', 'shot', 'epic', '!'], ['drone', 'shot', 'unreal', '!', 'great', 'video', '.', 'Big', 'kudos', 'Derek', 'whole', 'team', '.', 'pyrotechnician', 'great', 'explaining', 'well'], ['professional', 'in-depth', 'coverage', ',', 'Derek', 'creating', 'Legacy', 'every', 'video', 'make', '.', 'generation', 'come', '...'], ['part', 'pyro', 'crew', 'watched', 'show', 'ground', 'zero', ',', 'well', 'normal', 'crowd', 'view', ',', 'drone', 'footage', 'within', 'cloud', 'shell', 'simply', 'beautiful', '.'], ['amount', 'effort', 'go', 'making', 'video', 'inspiring', '.'], ['Loving', 'frequency', 'uploads', 'channel', '.', 'quality', 'quantity', 'amazing', '.'], ['Hell', 'yeah', '!', 'Thanks', 'letting', 'fly', 'finale', '!', '!', 'Biggest', 'Adrenalin', 'rush', 'flying', 'ever', '!', 'Felt', 'like', 'Star', 'Trek', 'something', '!'], ['favorite', 'thing', 'Veritasium', 'reffing', 'content', 'video', 'SHOW', '...', 'really', 'go', 'show', 'effort', 'passion', 'investment', 'channel'], ['absolutely', 'love', 'enthusiasm', 'excitement', 'video', ',', 'tell', 'Derek', 'genuinely', 'loved', 'making'], ['pyrotechnician', ',', 'video', 'great', '!', \"'d\", 'find', 'interesting', \"'d\", 'put', 'light', 'different', 'fuse', '(', 'single/multi', 'core', ')', 'chemistry', 'physic', 'fascinating', '.'], ['really', 'beautiful', 'video', 'watch', ',', 'hope', 'something', 'similar', 'next', 'year', '(', 'maybe', 'like', 'next', 'gen', 'evolution', 'traditional', 'firework', ',', 'exists', ')'], [\"'ve\", 'never', 'seen', 'Dereck', 'happy', 'energized', 'project', 'like', '!'], [\"n't\", 'actually', 'thought', 'amount', 'effort', 'put', 'video', '.', 'one', 'truly', 'incredible', ',', 'video', '!', 'thank', \"y'all\", 'much', '!'], ['taught', 'everything', 'firework', '’', 'wanted', 'know', 'entire', 'life…', 'never', 'looked', '.', 'idea', 'inside', 'firework', 'even', 'looked', 'like', 'even', 'launched', '!']]\n"
     ]
    }
   ],
   "source": [
    "# Lemmatized Comments\n",
    "print(lemmatized_comments)"
   ]
  },
  {
   "cell_type": "code",
   "execution_count": 17,
   "id": "e9729a09",
   "metadata": {},
   "outputs": [
    {
     "name": "stdout",
     "output_type": "stream",
     "text": [
      "[['Veratasium', '2050', '', 'made', 'nuclear', 'weapon', 'explain', 'every', 'aspect'], ['drone', 'shot', 'almost', 'though', 'drone', 'flying', 'universe', 'passing', 'around', 'star', '', 'cool'], ['YouTube', 'video', '', 'mini', 'high', 'quality', 'film', '', 'outstanding', 'production', 'level', '', '', 'Congrats', 'Derek', 'V', 'team'], ['surprise', 'effective', 'mesmerizing', 'drone', 'shot', 'given', 'simple', 'footage', '', 'downplay', 'pyrotechnic', 'expert', 'level', 'drone', 'piloting', '', 'black', 'backdrop', 'soaring', 'ball', 'fire', 'viewed', 'flying', 'perspective', 'seems', 'like', 'something', 'would', 'nt', 'difficult', 'render', '', 'Yet', '', 'result', 'feel', 'like', 'something', 'special', 'nothing', 'like', 'run', 'mill', 'CGI', 'effect', ''], ['particularly', 'like', 'way', 'experiment', 'black', 'powder', 'Derek', 'keep', 'flammable', 'ingredient', 'inch', 'burning', 'powder', 'train', ''], ['Probably', 'best', 'educational', 'storytelling', 'video', 'YouTube', 'currently', '', 'well', 'made', '', 'well', 'paced', 'well', '', 'everything', ''], ['drone', 'shot', 'epic', ''], ['drone', 'shot', 'unreal', '', 'great', 'video', '', 'Big', 'kudos', 'Derek', 'whole', 'team', '', 'pyrotechnician', 'great', 'explaining', 'well'], ['professional', 'indepth', 'coverage', '', 'Derek', 'creating', 'Legacy', 'every', 'video', 'make', '', 'generation', 'come', ''], ['part', 'pyro', 'crew', 'watched', 'show', 'ground', 'zero', '', 'well', 'normal', 'crowd', 'view', '', 'drone', 'footage', 'within', 'cloud', 'shell', 'simply', 'beautiful', ''], ['amount', 'effort', 'go', 'making', 'video', 'inspiring', ''], ['Loving', 'frequency', 'uploads', 'channel', '', 'quality', 'quantity', 'amazing', ''], ['Hell', 'yeah', '', 'Thanks', 'letting', 'fly', 'finale', '', '', 'Biggest', 'Adrenalin', 'rush', 'flying', 'ever', '', 'Felt', 'like', 'Star', 'Trek', 'something', ''], ['favorite', 'thing', 'Veritasium', 'reffing', 'content', 'video', 'SHOW', '', 'really', 'go', 'show', 'effort', 'passion', 'investment', 'channel'], ['absolutely', 'love', 'enthusiasm', 'excitement', 'video', '', 'tell', 'Derek', 'genuinely', 'loved', 'making'], ['pyrotechnician', '', 'video', 'great', '', 'd', 'find', 'interesting', 'd', 'put', 'light', 'different', 'fuse', '', 'singlemulti', 'core', '', 'chemistry', 'physic', 'fascinating', ''], ['really', 'beautiful', 'video', 'watch', '', 'hope', 'something', 'similar', 'next', 'year', '', 'maybe', 'like', 'next', 'gen', 'evolution', 'traditional', 'firework', '', 'exists', ''], ['ve', 'never', 'seen', 'Dereck', 'happy', 'energized', 'project', 'like', ''], ['nt', 'actually', 'thought', 'amount', 'effort', 'put', 'video', '', 'one', 'truly', 'incredible', '', 'video', '', 'thank', 'yall', 'much', ''], ['taught', 'everything', 'firework', '', 'wanted', 'know', 'entire', 'life', 'never', 'looked', '', 'idea', 'inside', 'firework', 'even', 'looked', 'like', 'even', 'launched', '']]\n"
     ]
    }
   ],
   "source": [
    "import re\n",
    "# remove punctuation marks\n",
    "cleaned_comments=[]\n",
    "for comment_tokens in lemmatized_comments:\n",
    "    cleaned_tokens = [re.sub(r'[^a-zA-Z0-9]', '', token) for token in comment_tokens]\n",
    "    cleaned_comments.append(cleaned_tokens)\n",
    "\n",
    "print(cleaned_comments)"
   ]
  },
  {
   "cell_type": "code",
   "execution_count": 18,
   "id": "2d4fc5e8",
   "metadata": {},
   "outputs": [
    {
     "name": "stdout",
     "output_type": "stream",
     "text": [
      "[['veratasium', '2050', '', 'made', 'nuclear', 'weapon', 'explain', 'every', 'aspect'], ['drone', 'shot', 'almost', 'though', 'drone', 'flying', 'universe', 'passing', 'around', 'star', '', 'cool'], ['youtube', 'video', '', 'mini', 'high', 'quality', 'film', '', 'outstanding', 'production', 'level', '', '', 'congrats', 'derek', 'v', 'team'], ['surprise', 'effective', 'mesmerizing', 'drone', 'shot', 'given', 'simple', 'footage', '', 'downplay', 'pyrotechnic', 'expert', 'level', 'drone', 'piloting', '', 'black', 'backdrop', 'soaring', 'ball', 'fire', 'viewed', 'flying', 'perspective', 'seems', 'like', 'something', 'would', 'nt', 'difficult', 'render', '', 'yet', '', 'result', 'feel', 'like', 'something', 'special', 'nothing', 'like', 'run', 'mill', 'cgi', 'effect', ''], ['particularly', 'like', 'way', 'experiment', 'black', 'powder', 'derek', 'keep', 'flammable', 'ingredient', 'inch', 'burning', 'powder', 'train', ''], ['probably', 'best', 'educational', 'storytelling', 'video', 'youtube', 'currently', '', 'well', 'made', '', 'well', 'paced', 'well', '', 'everything', ''], ['drone', 'shot', 'epic', ''], ['drone', 'shot', 'unreal', '', 'great', 'video', '', 'big', 'kudos', 'derek', 'whole', 'team', '', 'pyrotechnician', 'great', 'explaining', 'well'], ['professional', 'indepth', 'coverage', '', 'derek', 'creating', 'legacy', 'every', 'video', 'make', '', 'generation', 'come', ''], ['part', 'pyro', 'crew', 'watched', 'show', 'ground', 'zero', '', 'well', 'normal', 'crowd', 'view', '', 'drone', 'footage', 'within', 'cloud', 'shell', 'simply', 'beautiful', ''], ['amount', 'effort', 'go', 'making', 'video', 'inspiring', ''], ['loving', 'frequency', 'uploads', 'channel', '', 'quality', 'quantity', 'amazing', ''], ['hell', 'yeah', '', 'thanks', 'letting', 'fly', 'finale', '', '', 'biggest', 'adrenalin', 'rush', 'flying', 'ever', '', 'felt', 'like', 'star', 'trek', 'something', ''], ['favorite', 'thing', 'veritasium', 'reffing', 'content', 'video', 'show', '', 'really', 'go', 'show', 'effort', 'passion', 'investment', 'channel'], ['absolutely', 'love', 'enthusiasm', 'excitement', 'video', '', 'tell', 'derek', 'genuinely', 'loved', 'making'], ['pyrotechnician', '', 'video', 'great', '', 'd', 'find', 'interesting', 'd', 'put', 'light', 'different', 'fuse', '', 'singlemulti', 'core', '', 'chemistry', 'physic', 'fascinating', ''], ['really', 'beautiful', 'video', 'watch', '', 'hope', 'something', 'similar', 'next', 'year', '', 'maybe', 'like', 'next', 'gen', 'evolution', 'traditional', 'firework', '', 'exists', ''], ['ve', 'never', 'seen', 'dereck', 'happy', 'energized', 'project', 'like', ''], ['nt', 'actually', 'thought', 'amount', 'effort', 'put', 'video', '', 'one', 'truly', 'incredible', '', 'video', '', 'thank', 'yall', 'much', ''], ['taught', 'everything', 'firework', '', 'wanted', 'know', 'entire', 'life', 'never', 'looked', '', 'idea', 'inside', 'firework', 'even', 'looked', 'like', 'even', 'launched', '']]\n"
     ]
    }
   ],
   "source": [
    "normalized_comments = []\n",
    "\n",
    "for comment_tokens in cleaned_comments:\n",
    "    normalized_tokens = [token.lower() for token in comment_tokens]\n",
    "    normalized_comments.append(normalized_tokens)\n",
    "\n",
    "print(normalized_comments)\n"
   ]
  },
  {
   "cell_type": "code",
   "execution_count": 19,
   "id": "21799cc1",
   "metadata": {},
   "outputs": [
    {
     "name": "stdout",
     "output_type": "stream",
     "text": [
      " 53\n",
      "video 11\n",
      "like 8\n",
      "drone 7\n",
      "derek 5\n",
      "well 5\n",
      "shot 4\n",
      "something 4\n",
      "flying 3\n",
      "great 3\n"
     ]
    }
   ],
   "source": [
    "from collections import Counter\n",
    "\n",
    "# Assuming 'normalized_comments' is a list of normalized comments\n",
    "word_frequency = Counter()\n",
    "\n",
    "for comment_tokens in normalized_comments:\n",
    "    word_frequency.update(comment_tokens)\n",
    "\n",
    "# Print the most common words and their frequencies\n",
    "for word, freq in word_frequency.most_common(10):\n",
    "    print(word, freq)\n"
   ]
  },
  {
   "cell_type": "code",
   "execution_count": 54,
   "id": "0abbedb6",
   "metadata": {},
   "outputs": [],
   "source": [
    "from nltk.sentiment import SentimentIntensityAnalyzer"
   ]
  },
  {
   "cell_type": "code",
   "execution_count": 62,
   "id": "bdb5af59",
   "metadata": {},
   "outputs": [
    {
     "name": "stdout",
     "output_type": "stream",
     "text": [
      "['Very Positive', 'Positive', 'Very Positive', 'Negative', 'Negative', 'Very Positive', 'Negative', 'Very Positive', 'Negative', 'Negative', 'Very Positive', 'Neutral', 'Very Positive', 'Very Positive', 'Neutral', 'Very Positive', 'Very Positive', 'Positive', 'Positive', 'Very Positive']\n"
     ]
    }
   ],
   "source": [
    "sid = SentimentIntensityAnalyzer()\n",
    "\n",
    "sentiments=[]\n",
    "sentiment_counts = {'Very Negative': 0, 'Negative': 0, 'Neutral': 0, 'Positive': 0, 'Very Positive': 0}\n",
    "\n",
    "for comment in normalized_comments:\n",
    "    sentiment_scores = sid.polarity_scores(' '.join(comment))\n",
    "    sentiment = sentiment_scores['compound']\n",
    "\n",
    "    if sentiment >= 0.5:\n",
    "        sentiments.append('Very Positive')\n",
    "        sentiment_counts['Very Positive'] +=1\n",
    "    elif sentiment >= 0.05:\n",
    "        sentiments.append('Positive')\n",
    "        sentiment_counts['Positive'] +=1\n",
    "    elif sentiment <= -0.5:\n",
    "        sentiments.append('Very Negative')\n",
    "        sentiment_counts['Very Negative'] +=1\n",
    "    elif sentiment <= -0.05:\n",
    "        sentiments.append('Negative')\n",
    "        sentiment_counts['Negative'] +=1\n",
    "    else:\n",
    "        sentiments.append('Neutral')\n",
    "        sentiment_counts['Neutral'] +=1\n",
    "        \n",
    "print(sentiments)\n",
    "\n"
   ]
  },
  {
   "cell_type": "code",
   "execution_count": 63,
   "id": "0f71e163",
   "metadata": {},
   "outputs": [
    {
     "data": {
      "image/png": "[encoded data removed]",
      "text/plain": [
       "<Figure size 640x480 with 1 Axes>"
      ]
     },
     "metadata": {},
     "output_type": "display_data"
    }
   ],
   "source": [
    "import matplotlib.pyplot as plt\n",
    "\n",
    "# Create a bar chart\n",
    "labels = sentiment_counts.keys()\n",
    "values = sentiment_counts.values()\n",
    "\n",
    "plt.bar(labels, values)\n",
    "plt.xlabel('Sentiment')\n",
    "plt.ylabel('Count')\n",
    "plt.title('Sentiment Analysis Results')\n",
    "plt.show()"
   ]
  },
  {
   "cell_type": "code",
   "execution_count": null,
   "id": "a2c71df1",
   "metadata": {},
   "outputs": [],
   "source": []
  }
 ],
 "metadata": {
  "kernelspec": {
   "display_name": "Python 3 (ipykernel)",
   "language": "python",
   "name": "python3"
  },
  "language_info": {
   "codemirror_mode": {
    "name": "ipython",
    "version": 3
   },
   "file_extension": ".py",
   "mimetype": "text/x-python",
   "name": "python",
   "nbconvert_exporter": "python",
   "pygments_lexer": "ipython3",
   "version": "3.10.11"
  }
 },
 "nbformat": 4,
 "nbformat_minor": 5
}
