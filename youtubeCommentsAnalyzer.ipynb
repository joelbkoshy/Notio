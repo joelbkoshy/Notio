{
 "cells": [
  {
   "cell_type": "code",
   "execution_count": 2,
   "id": "0dd143c1",
   "metadata": {},
   "outputs": [],
   "source": [
    "from selenium import webdriver\n",
    "from selenium.webdriver.common.by import By"
   ]
  },
  {
   "cell_type": "code",
   "execution_count": 43,
   "id": "eaa7f6fa",
   "metadata": {},
   "outputs": [
    {
     "name": "stdout",
     "output_type": "stream",
     "text": [
      "Enter the link : https://www.youtube.com/watch?v=f8BR6XbQw80&list=PLUDwpEzHYYLsuUBvuoYTlN0KsBB5t-BDa&index=8\n"
     ]
    }
   ],
   "source": [
    "url = input(\"Enter the link : \")\n",
    "driver = webdriver.Chrome()\n",
    "driver.get(url)"
   ]
  },
  {
   "cell_type": "code",
   "execution_count": 44,
   "id": "7ff6e243",
   "metadata": {},
   "outputs": [
    {
     "name": "stdout",
     "output_type": "stream",
     "text": [
      "[\"Request you to kindly provide that notepad notes sir, that'll be highly helpful to revise the topics in short time not always it's possible to look out for entire video series right before interviews\", 'Hi Sir, How many total videos will be there in this Selenium with Python playlist ???', 'Great learning experience from you sir..\\nThank you!', '1)which among these are valid ways of configuring\\n1)entity class mapped using XML\\n2)using set property () method \\n3)entity class mapped using annotation', 'Hi sir \\nIf we want to automate web based SSH is it possible, \\nCan you please make a video on that?', \"Thanks for the great videos! really learnt a lot from this. However, when i try to complete the assignment, i'm not able to locate the search result after searching in the box. can you please explain that?\", 'thanks a lot sir, most helpful videos', 'Hello All, If anybody has completed the exercise please let me know as I am unable to move ahead after searching selenium in searchbox. I need to know how to select different selenium links displayed on webpage. thanks', 'Sir, How can we handle double Alert Windows ?', \"Good presentation sir, switch to alert is not working on my device. its showing a message  which 'no such alert' .\", 'Hi Pavan, As said at your website, we have paid 21999 rs for QA Oct 6th batch classes. I have already sent mail where the payment details attached to the concern mail. We havent got any update or payment received confirmation mail or any sought of concern. We have even tried if we can get any contact but couldnt succeed. How should we approach you and make sure about our slot with bacth or How we will be knowing about the payment confirmation. Kindly please let us know at your earliest convenience.', \"Sir why we didn't use  getwindowhandle,getwindowhandles to handle the popup\", 'keep up the good work sir', \"Does anyone complete the assignment? After searching for selenium, I don't know how to locate the first option selenium. Would anyone be able to help?\", '@https://www.youtube.com/@sdetpavan  Sir for inner frame element is not being accessed please check and support:\\nTraceback (most recent call last):\\n\\n  File \"C:\\\\Users\\\\Admin\\\\PycharmProjects\\\\seleniumPythonLearning\\\\SleniumCommands\\\\', 'Hi sir,\\nCan you please make videos for ruby automation engineer role \\nThank you', 'Great Work Sir', 'Can anyone explain me how to capture search result???', 'I am not able to access the different links through neither find_element nor by assigning a varible to find_elements and extracting using for loops, could anyone please help me to understand how to access those selenium links(ASSIGNMENT)', 'Hi Pavan\\nI follow every vdo you post in youtube. Right now I really need a big favour of yours\\nI am from testing background. My manager asked me to set up ci cd process of nodejs application through jenkins', 'THANKS SIR', 'Hi sir I want to join in online course for manual testing do you provide any classes online', 'Sir can you explain task given by u after searching selenium to select the selenium link if possible', 'Hi sir...\\nHow to close all widows without quit and close method...this s my interview question..plz help me out', 'Is there anyone who can help? For the assignment I have grabbed all the links inside a list but I am not being able to click on them.', 'superb sir\\nthankkkkkkkkkkkkkkkkkkkkkkkkkkkkkkkkkkkkkkkkkkkkkk you so much', 'hi sir \\nwhen i join the membership i want the manual testing nots \\nplease sir', 'can you pin me pdf']\n"
     ]
    }
   ],
   "source": [
    "comments = driver.find_elements(By.CLASS_NAME, \"style-scope ytd-comment-renderer\")\n",
    "# print(comments)\n",
    "final=[]\n",
    "i=0;\n",
    "for comment in comments:\n",
    "    comString = comment.find_elements(By.ID, 'content-text')\n",
    "    for com in comString:\n",
    "        i=i+1\n",
    "        final.append(com.text)\n",
    "print(final)"
   ]
  },
  {
   "cell_type": "code",
   "execution_count": 45,
   "id": "96a177ce",
   "metadata": {},
   "outputs": [
    {
     "name": "stderr",
     "output_type": "stream",
     "text": [
      "[nltk_data] Downloading package vader_lexicon to\n",
      "[nltk_data]     C:\\Users\\joelb\\AppData\\Roaming\\nltk_data...\n",
      "[nltk_data]   Package vader_lexicon is already up-to-date!\n",
      "[nltk_data] Downloading package punkt to\n",
      "[nltk_data]     C:\\Users\\joelb\\AppData\\Roaming\\nltk_data...\n",
      "[nltk_data]   Package punkt is already up-to-date!\n"
     ]
    },
    {
     "data": {
      "text/plain": [
       "True"
      ]
     },
     "execution_count": 45,
     "metadata": {},
     "output_type": "execute_result"
    }
   ],
   "source": [
    "import nltk\n",
    "from nltk.sentiment import SentimentIntensityAnalyzer\n",
    "nltk.download('vader_lexicon')\n",
    "nltk.download('punkt')"
   ]
  },
  {
   "cell_type": "code",
   "execution_count": 46,
   "id": "e247096f",
   "metadata": {},
   "outputs": [],
   "source": [
    "from nltk.tokenize import word_tokenize"
   ]
  },
  {
   "cell_type": "code",
   "execution_count": 47,
   "id": "0195c574",
   "metadata": {},
   "outputs": [],
   "source": [
    "tokenised_comments=[]\n",
    "for comment in final:\n",
    "    comment_tokens=word_tokenize(comment)\n",
    "    tokenised_comments.append(comment_tokens)"
   ]
  },
  {
   "cell_type": "code",
   "execution_count": 48,
   "id": "51509212",
   "metadata": {},
   "outputs": [
    {
     "name": "stdout",
     "output_type": "stream",
     "text": [
      "[['Request', 'you', 'to', 'kindly', 'provide', 'that', 'notepad', 'notes', 'sir', ',', 'that', \"'ll\", 'be', 'highly', 'helpful', 'to', 'revise', 'the', 'topics', 'in', 'short', 'time', 'not', 'always', 'it', \"'s\", 'possible', 'to', 'look', 'out', 'for', 'entire', 'video', 'series', 'right', 'before', 'interviews'], ['Hi', 'Sir', ',', 'How', 'many', 'total', 'videos', 'will', 'be', 'there', 'in', 'this', 'Selenium', 'with', 'Python', 'playlist', '?', '?', '?'], ['Great', 'learning', 'experience', 'from', 'you', 'sir', '..', 'Thank', 'you', '!'], ['1', ')', 'which', 'among', 'these', 'are', 'valid', 'ways', 'of', 'configuring', '1', ')', 'entity', 'class', 'mapped', 'using', 'XML', '2', ')', 'using', 'set', 'property', '(', ')', 'method', '3', ')', 'entity', 'class', 'mapped', 'using', 'annotation'], ['Hi', 'sir', 'If', 'we', 'want', 'to', 'automate', 'web', 'based', 'SSH', 'is', 'it', 'possible', ',', 'Can', 'you', 'please', 'make', 'a', 'video', 'on', 'that', '?'], ['Thanks', 'for', 'the', 'great', 'videos', '!', 'really', 'learnt', 'a', 'lot', 'from', 'this', '.', 'However', ',', 'when', 'i', 'try', 'to', 'complete', 'the', 'assignment', ',', 'i', \"'m\", 'not', 'able', 'to', 'locate', 'the', 'search', 'result', 'after', 'searching', 'in', 'the', 'box', '.', 'can', 'you', 'please', 'explain', 'that', '?'], ['thanks', 'a', 'lot', 'sir', ',', 'most', 'helpful', 'videos'], ['Hello', 'All', ',', 'If', 'anybody', 'has', 'completed', 'the', 'exercise', 'please', 'let', 'me', 'know', 'as', 'I', 'am', 'unable', 'to', 'move', 'ahead', 'after', 'searching', 'selenium', 'in', 'searchbox', '.', 'I', 'need', 'to', 'know', 'how', 'to', 'select', 'different', 'selenium', 'links', 'displayed', 'on', 'webpage', '.', 'thanks'], ['Sir', ',', 'How', 'can', 'we', 'handle', 'double', 'Alert', 'Windows', '?'], ['Good', 'presentation', 'sir', ',', 'switch', 'to', 'alert', 'is', 'not', 'working', 'on', 'my', 'device', '.', 'its', 'showing', 'a', 'message', 'which', \"'no\", 'such', 'alert', \"'\", '.'], ['Hi', 'Pavan', ',', 'As', 'said', 'at', 'your', 'website', ',', 'we', 'have', 'paid', '21999', 'rs', 'for', 'QA', 'Oct', '6th', 'batch', 'classes', '.', 'I', 'have', 'already', 'sent', 'mail', 'where', 'the', 'payment', 'details', 'attached', 'to', 'the', 'concern', 'mail', '.', 'We', 'havent', 'got', 'any', 'update', 'or', 'payment', 'received', 'confirmation', 'mail', 'or', 'any', 'sought', 'of', 'concern', '.', 'We', 'have', 'even', 'tried', 'if', 'we', 'can', 'get', 'any', 'contact', 'but', 'couldnt', 'succeed', '.', 'How', 'should', 'we', 'approach', 'you', 'and', 'make', 'sure', 'about', 'our', 'slot', 'with', 'bacth', 'or', 'How', 'we', 'will', 'be', 'knowing', 'about', 'the', 'payment', 'confirmation', '.', 'Kindly', 'please', 'let', 'us', 'know', 'at', 'your', 'earliest', 'convenience', '.'], ['Sir', 'why', 'we', 'did', \"n't\", 'use', 'getwindowhandle', ',', 'getwindowhandles', 'to', 'handle', 'the', 'popup'], ['keep', 'up', 'the', 'good', 'work', 'sir'], ['Does', 'anyone', 'complete', 'the', 'assignment', '?', 'After', 'searching', 'for', 'selenium', ',', 'I', 'do', \"n't\", 'know', 'how', 'to', 'locate', 'the', 'first', 'option', 'selenium', '.', 'Would', 'anyone', 'be', 'able', 'to', 'help', '?'], ['@', 'https', ':', '//www.youtube.com/', '@', 'sdetpavan', 'Sir', 'for', 'inner', 'frame', 'element', 'is', 'not', 'being', 'accessed', 'please', 'check', 'and', 'support', ':', 'Traceback', '(', 'most', 'recent', 'call', 'last', ')', ':', 'File', '``', 'C', ':', '\\\\Users\\\\Admin\\\\PycharmProjects\\\\seleniumPythonLearning\\\\SleniumCommands\\\\'], ['Hi', 'sir', ',', 'Can', 'you', 'please', 'make', 'videos', 'for', 'ruby', 'automation', 'engineer', 'role', 'Thank', 'you'], ['Great', 'Work', 'Sir'], ['Can', 'anyone', 'explain', 'me', 'how', 'to', 'capture', 'search', 'result', '?', '?', '?'], ['I', 'am', 'not', 'able', 'to', 'access', 'the', 'different', 'links', 'through', 'neither', 'find_element', 'nor', 'by', 'assigning', 'a', 'varible', 'to', 'find_elements', 'and', 'extracting', 'using', 'for', 'loops', ',', 'could', 'anyone', 'please', 'help', 'me', 'to', 'understand', 'how', 'to', 'access', 'those', 'selenium', 'links', '(', 'ASSIGNMENT', ')'], ['Hi', 'Pavan', 'I', 'follow', 'every', 'vdo', 'you', 'post', 'in', 'youtube', '.', 'Right', 'now', 'I', 'really', 'need', 'a', 'big', 'favour', 'of', 'yours', 'I', 'am', 'from', 'testing', 'background', '.', 'My', 'manager', 'asked', 'me', 'to', 'set', 'up', 'ci', 'cd', 'process', 'of', 'nodejs', 'application', 'through', 'jenkins'], ['THANKS', 'SIR'], ['Hi', 'sir', 'I', 'want', 'to', 'join', 'in', 'online', 'course', 'for', 'manual', 'testing', 'do', 'you', 'provide', 'any', 'classes', 'online'], ['Sir', 'can', 'you', 'explain', 'task', 'given', 'by', 'u', 'after', 'searching', 'selenium', 'to', 'select', 'the', 'selenium', 'link', 'if', 'possible'], ['Hi', 'sir', '...', 'How', 'to', 'close', 'all', 'widows', 'without', 'quit', 'and', 'close', 'method', '...', 'this', 's', 'my', 'interview', 'question', '..', 'plz', 'help', 'me', 'out'], ['Is', 'there', 'anyone', 'who', 'can', 'help', '?', 'For', 'the', 'assignment', 'I', 'have', 'grabbed', 'all', 'the', 'links', 'inside', 'a', 'list', 'but', 'I', 'am', 'not', 'being', 'able', 'to', 'click', 'on', 'them', '.'], ['superb', 'sir', 'thankkkkkkkkkkkkkkkkkkkkkkkkkkkkkkkkkkkkkkkkkkkkkk', 'you', 'so', 'much'], ['hi', 'sir', 'when', 'i', 'join', 'the', 'membership', 'i', 'want', 'the', 'manual', 'testing', 'nots', 'please', 'sir'], ['can', 'you', 'pin', 'me', 'pdf']]\n"
     ]
    }
   ],
   "source": [
    "# Tokenised comments\n",
    "print(tokenised_comments)"
   ]
  },
  {
   "cell_type": "code",
   "execution_count": 49,
   "id": "6283e533",
   "metadata": {},
   "outputs": [
    {
     "name": "stderr",
     "output_type": "stream",
     "text": [
      "[nltk_data] Downloading package stopwords to\n",
      "[nltk_data]     C:\\Users\\joelb\\AppData\\Roaming\\nltk_data...\n",
      "[nltk_data]   Package stopwords is already up-to-date!\n"
     ]
    }
   ],
   "source": [
    "nltk.download('stopwords')\n",
    "from nltk.corpus import stopwords"
   ]
  },
  {
   "cell_type": "code",
   "execution_count": 50,
   "id": "b924e692",
   "metadata": {},
   "outputs": [],
   "source": [
    "stop_words = set(stopwords.words('english'))"
   ]
  },
  {
   "cell_type": "code",
   "execution_count": 51,
   "id": "01631c5a",
   "metadata": {},
   "outputs": [
    {
     "name": "stdout",
     "output_type": "stream",
     "text": [
      "[['Request', 'kindly', 'provide', 'notepad', 'notes', 'sir', ',', \"'ll\", 'highly', 'helpful', 'revise', 'topics', 'short', 'time', 'always', \"'s\", 'possible', 'look', 'entire', 'video', 'series', 'right', 'interviews'], ['Hi', 'Sir', ',', 'many', 'total', 'videos', 'Selenium', 'Python', 'playlist', '?', '?', '?'], ['Great', 'learning', 'experience', 'sir', '..', 'Thank', '!'], ['1', ')', 'among', 'valid', 'ways', 'configuring', '1', ')', 'entity', 'class', 'mapped', 'using', 'XML', '2', ')', 'using', 'set', 'property', '(', ')', 'method', '3', ')', 'entity', 'class', 'mapped', 'using', 'annotation'], ['Hi', 'sir', 'want', 'automate', 'web', 'based', 'SSH', 'possible', ',', 'please', 'make', 'video', '?'], ['Thanks', 'great', 'videos', '!', 'really', 'learnt', 'lot', '.', 'However', ',', 'try', 'complete', 'assignment', ',', \"'m\", 'able', 'locate', 'search', 'result', 'searching', 'box', '.', 'please', 'explain', '?'], ['thanks', 'lot', 'sir', ',', 'helpful', 'videos'], ['Hello', ',', 'anybody', 'completed', 'exercise', 'please', 'let', 'know', 'unable', 'move', 'ahead', 'searching', 'selenium', 'searchbox', '.', 'need', 'know', 'select', 'different', 'selenium', 'links', 'displayed', 'webpage', '.', 'thanks'], ['Sir', ',', 'handle', 'double', 'Alert', 'Windows', '?'], ['Good', 'presentation', 'sir', ',', 'switch', 'alert', 'working', 'device', '.', 'showing', 'message', \"'no\", 'alert', \"'\", '.'], ['Hi', 'Pavan', ',', 'said', 'website', ',', 'paid', '21999', 'rs', 'QA', 'Oct', '6th', 'batch', 'classes', '.', 'already', 'sent', 'mail', 'payment', 'details', 'attached', 'concern', 'mail', '.', 'havent', 'got', 'update', 'payment', 'received', 'confirmation', 'mail', 'sought', 'concern', '.', 'even', 'tried', 'get', 'contact', 'couldnt', 'succeed', '.', 'approach', 'make', 'sure', 'slot', 'bacth', 'knowing', 'payment', 'confirmation', '.', 'Kindly', 'please', 'let', 'us', 'know', 'earliest', 'convenience', '.'], ['Sir', \"n't\", 'use', 'getwindowhandle', ',', 'getwindowhandles', 'handle', 'popup'], ['keep', 'good', 'work', 'sir'], ['anyone', 'complete', 'assignment', '?', 'searching', 'selenium', ',', \"n't\", 'know', 'locate', 'first', 'option', 'selenium', '.', 'Would', 'anyone', 'able', 'help', '?'], ['@', 'https', ':', '//www.youtube.com/', '@', 'sdetpavan', 'Sir', 'inner', 'frame', 'element', 'accessed', 'please', 'check', 'support', ':', 'Traceback', '(', 'recent', 'call', 'last', ')', ':', 'File', '``', 'C', ':', '\\\\Users\\\\Admin\\\\PycharmProjects\\\\seleniumPythonLearning\\\\SleniumCommands\\\\'], ['Hi', 'sir', ',', 'please', 'make', 'videos', 'ruby', 'automation', 'engineer', 'role', 'Thank'], ['Great', 'Work', 'Sir'], ['anyone', 'explain', 'capture', 'search', 'result', '?', '?', '?'], ['able', 'access', 'different', 'links', 'neither', 'find_element', 'assigning', 'varible', 'find_elements', 'extracting', 'using', 'loops', ',', 'could', 'anyone', 'please', 'help', 'understand', 'access', 'selenium', 'links', '(', 'ASSIGNMENT', ')'], ['Hi', 'Pavan', 'follow', 'every', 'vdo', 'post', 'youtube', '.', 'Right', 'really', 'need', 'big', 'favour', 'testing', 'background', '.', 'manager', 'asked', 'set', 'ci', 'cd', 'process', 'nodejs', 'application', 'jenkins'], ['THANKS', 'SIR'], ['Hi', 'sir', 'want', 'join', 'online', 'course', 'manual', 'testing', 'provide', 'classes', 'online'], ['Sir', 'explain', 'task', 'given', 'u', 'searching', 'selenium', 'select', 'selenium', 'link', 'possible'], ['Hi', 'sir', '...', 'close', 'widows', 'without', 'quit', 'close', 'method', '...', 'interview', 'question', '..', 'plz', 'help'], ['anyone', 'help', '?', 'assignment', 'grabbed', 'links', 'inside', 'list', 'able', 'click', '.'], ['superb', 'sir', 'thankkkkkkkkkkkkkkkkkkkkkkkkkkkkkkkkkkkkkkkkkkkkkk', 'much'], ['hi', 'sir', 'join', 'membership', 'want', 'manual', 'testing', 'nots', 'please', 'sir'], ['pin', 'pdf']]\n"
     ]
    }
   ],
   "source": [
    "filtered_comments = []\n",
    "\n",
    "for tokenised_comment in tokenised_comments:\n",
    "    filtered_tokens = [token for token in tokenised_comment if token.lower() not in stop_words]\n",
    "    filtered_comments.append(filtered_tokens)\n",
    "    \n",
    "print(filtered_comments)"
   ]
  },
  {
   "cell_type": "code",
   "execution_count": 52,
   "id": "babcd781",
   "metadata": {},
   "outputs": [
    {
     "name": "stderr",
     "output_type": "stream",
     "text": [
      "[nltk_data] Downloading package wordnet to\n",
      "[nltk_data]     C:\\Users\\joelb\\AppData\\Roaming\\nltk_data...\n",
      "[nltk_data]   Package wordnet is already up-to-date!\n"
     ]
    },
    {
     "data": {
      "text/plain": [
       "True"
      ]
     },
     "execution_count": 52,
     "metadata": {},
     "output_type": "execute_result"
    }
   ],
   "source": [
    "from nltk.stem import WordNetLemmatizer\n",
    "nltk.download('wordnet')"
   ]
  },
  {
   "cell_type": "code",
   "execution_count": 53,
   "id": "7f18b578",
   "metadata": {},
   "outputs": [],
   "source": [
    "lemmatizer = WordNetLemmatizer()\n",
    "lemmatized_comments = []"
   ]
  },
  {
   "cell_type": "code",
   "execution_count": 54,
   "id": "1e0926cb",
   "metadata": {},
   "outputs": [],
   "source": [
    "for filtered_comment in filtered_comments:\n",
    "    lemmatized_tokens = [lemmatizer.lemmatize(token) for token in filtered_comment]\n",
    "    lemmatized_comments.append(lemmatized_tokens)"
   ]
  },
  {
   "cell_type": "code",
   "execution_count": 55,
   "id": "8850e3f4",
   "metadata": {},
   "outputs": [
    {
     "name": "stdout",
     "output_type": "stream",
     "text": [
      "[['Request', 'kindly', 'provide', 'notepad', 'note', 'sir', ',', \"'ll\", 'highly', 'helpful', 'revise', 'topic', 'short', 'time', 'always', \"'s\", 'possible', 'look', 'entire', 'video', 'series', 'right', 'interview'], ['Hi', 'Sir', ',', 'many', 'total', 'video', 'Selenium', 'Python', 'playlist', '?', '?', '?'], ['Great', 'learning', 'experience', 'sir', '..', 'Thank', '!'], ['1', ')', 'among', 'valid', 'way', 'configuring', '1', ')', 'entity', 'class', 'mapped', 'using', 'XML', '2', ')', 'using', 'set', 'property', '(', ')', 'method', '3', ')', 'entity', 'class', 'mapped', 'using', 'annotation'], ['Hi', 'sir', 'want', 'automate', 'web', 'based', 'SSH', 'possible', ',', 'please', 'make', 'video', '?'], ['Thanks', 'great', 'video', '!', 'really', 'learnt', 'lot', '.', 'However', ',', 'try', 'complete', 'assignment', ',', \"'m\", 'able', 'locate', 'search', 'result', 'searching', 'box', '.', 'please', 'explain', '?'], ['thanks', 'lot', 'sir', ',', 'helpful', 'video'], ['Hello', ',', 'anybody', 'completed', 'exercise', 'please', 'let', 'know', 'unable', 'move', 'ahead', 'searching', 'selenium', 'searchbox', '.', 'need', 'know', 'select', 'different', 'selenium', 'link', 'displayed', 'webpage', '.', 'thanks'], ['Sir', ',', 'handle', 'double', 'Alert', 'Windows', '?'], ['Good', 'presentation', 'sir', ',', 'switch', 'alert', 'working', 'device', '.', 'showing', 'message', \"'no\", 'alert', \"'\", '.'], ['Hi', 'Pavan', ',', 'said', 'website', ',', 'paid', '21999', 'r', 'QA', 'Oct', '6th', 'batch', 'class', '.', 'already', 'sent', 'mail', 'payment', 'detail', 'attached', 'concern', 'mail', '.', 'havent', 'got', 'update', 'payment', 'received', 'confirmation', 'mail', 'sought', 'concern', '.', 'even', 'tried', 'get', 'contact', 'couldnt', 'succeed', '.', 'approach', 'make', 'sure', 'slot', 'bacth', 'knowing', 'payment', 'confirmation', '.', 'Kindly', 'please', 'let', 'u', 'know', 'earliest', 'convenience', '.'], ['Sir', \"n't\", 'use', 'getwindowhandle', ',', 'getwindowhandles', 'handle', 'popup'], ['keep', 'good', 'work', 'sir'], ['anyone', 'complete', 'assignment', '?', 'searching', 'selenium', ',', \"n't\", 'know', 'locate', 'first', 'option', 'selenium', '.', 'Would', 'anyone', 'able', 'help', '?'], ['@', 'http', ':', '//www.youtube.com/', '@', 'sdetpavan', 'Sir', 'inner', 'frame', 'element', 'accessed', 'please', 'check', 'support', ':', 'Traceback', '(', 'recent', 'call', 'last', ')', ':', 'File', '``', 'C', ':', '\\\\Users\\\\Admin\\\\PycharmProjects\\\\seleniumPythonLearning\\\\SleniumCommands\\\\'], ['Hi', 'sir', ',', 'please', 'make', 'video', 'ruby', 'automation', 'engineer', 'role', 'Thank'], ['Great', 'Work', 'Sir'], ['anyone', 'explain', 'capture', 'search', 'result', '?', '?', '?'], ['able', 'access', 'different', 'link', 'neither', 'find_element', 'assigning', 'varible', 'find_elements', 'extracting', 'using', 'loop', ',', 'could', 'anyone', 'please', 'help', 'understand', 'access', 'selenium', 'link', '(', 'ASSIGNMENT', ')'], ['Hi', 'Pavan', 'follow', 'every', 'vdo', 'post', 'youtube', '.', 'Right', 'really', 'need', 'big', 'favour', 'testing', 'background', '.', 'manager', 'asked', 'set', 'ci', 'cd', 'process', 'nodejs', 'application', 'jenkins'], ['THANKS', 'SIR'], ['Hi', 'sir', 'want', 'join', 'online', 'course', 'manual', 'testing', 'provide', 'class', 'online'], ['Sir', 'explain', 'task', 'given', 'u', 'searching', 'selenium', 'select', 'selenium', 'link', 'possible'], ['Hi', 'sir', '...', 'close', 'widow', 'without', 'quit', 'close', 'method', '...', 'interview', 'question', '..', 'plz', 'help'], ['anyone', 'help', '?', 'assignment', 'grabbed', 'link', 'inside', 'list', 'able', 'click', '.'], ['superb', 'sir', 'thankkkkkkkkkkkkkkkkkkkkkkkkkkkkkkkkkkkkkkkkkkkkkk', 'much'], ['hi', 'sir', 'join', 'membership', 'want', 'manual', 'testing', 'nots', 'please', 'sir'], ['pin', 'pdf']]\n"
     ]
    }
   ],
   "source": [
    "# Lemmatized Comments\n",
    "print(lemmatized_comments)"
   ]
  },
  {
   "cell_type": "code",
   "execution_count": 56,
   "id": "e9729a09",
   "metadata": {},
   "outputs": [
    {
     "name": "stdout",
     "output_type": "stream",
     "text": [
      "[['Request', 'kindly', 'provide', 'notepad', 'note', 'sir', '', 'll', 'highly', 'helpful', 'revise', 'topic', 'short', 'time', 'always', 's', 'possible', 'look', 'entire', 'video', 'series', 'right', 'interview'], ['Hi', 'Sir', '', 'many', 'total', 'video', 'Selenium', 'Python', 'playlist', '', '', ''], ['Great', 'learning', 'experience', 'sir', '', 'Thank', ''], ['1', '', 'among', 'valid', 'way', 'configuring', '1', '', 'entity', 'class', 'mapped', 'using', 'XML', '2', '', 'using', 'set', 'property', '', '', 'method', '3', '', 'entity', 'class', 'mapped', 'using', 'annotation'], ['Hi', 'sir', 'want', 'automate', 'web', 'based', 'SSH', 'possible', '', 'please', 'make', 'video', ''], ['Thanks', 'great', 'video', '', 'really', 'learnt', 'lot', '', 'However', '', 'try', 'complete', 'assignment', '', 'm', 'able', 'locate', 'search', 'result', 'searching', 'box', '', 'please', 'explain', ''], ['thanks', 'lot', 'sir', '', 'helpful', 'video'], ['Hello', '', 'anybody', 'completed', 'exercise', 'please', 'let', 'know', 'unable', 'move', 'ahead', 'searching', 'selenium', 'searchbox', '', 'need', 'know', 'select', 'different', 'selenium', 'link', 'displayed', 'webpage', '', 'thanks'], ['Sir', '', 'handle', 'double', 'Alert', 'Windows', ''], ['Good', 'presentation', 'sir', '', 'switch', 'alert', 'working', 'device', '', 'showing', 'message', 'no', 'alert', '', ''], ['Hi', 'Pavan', '', 'said', 'website', '', 'paid', '21999', 'r', 'QA', 'Oct', '6th', 'batch', 'class', '', 'already', 'sent', 'mail', 'payment', 'detail', 'attached', 'concern', 'mail', '', 'havent', 'got', 'update', 'payment', 'received', 'confirmation', 'mail', 'sought', 'concern', '', 'even', 'tried', 'get', 'contact', 'couldnt', 'succeed', '', 'approach', 'make', 'sure', 'slot', 'bacth', 'knowing', 'payment', 'confirmation', '', 'Kindly', 'please', 'let', 'u', 'know', 'earliest', 'convenience', ''], ['Sir', 'nt', 'use', 'getwindowhandle', '', 'getwindowhandles', 'handle', 'popup'], ['keep', 'good', 'work', 'sir'], ['anyone', 'complete', 'assignment', '', 'searching', 'selenium', '', 'nt', 'know', 'locate', 'first', 'option', 'selenium', '', 'Would', 'anyone', 'able', 'help', ''], ['', 'http', '', 'wwwyoutubecom', '', 'sdetpavan', 'Sir', 'inner', 'frame', 'element', 'accessed', 'please', 'check', 'support', '', 'Traceback', '', 'recent', 'call', 'last', '', '', 'File', '', 'C', '', 'UsersAdminPycharmProjectsseleniumPythonLearningSleniumCommands'], ['Hi', 'sir', '', 'please', 'make', 'video', 'ruby', 'automation', 'engineer', 'role', 'Thank'], ['Great', 'Work', 'Sir'], ['anyone', 'explain', 'capture', 'search', 'result', '', '', ''], ['able', 'access', 'different', 'link', 'neither', 'findelement', 'assigning', 'varible', 'findelements', 'extracting', 'using', 'loop', '', 'could', 'anyone', 'please', 'help', 'understand', 'access', 'selenium', 'link', '', 'ASSIGNMENT', ''], ['Hi', 'Pavan', 'follow', 'every', 'vdo', 'post', 'youtube', '', 'Right', 'really', 'need', 'big', 'favour', 'testing', 'background', '', 'manager', 'asked', 'set', 'ci', 'cd', 'process', 'nodejs', 'application', 'jenkins'], ['THANKS', 'SIR'], ['Hi', 'sir', 'want', 'join', 'online', 'course', 'manual', 'testing', 'provide', 'class', 'online'], ['Sir', 'explain', 'task', 'given', 'u', 'searching', 'selenium', 'select', 'selenium', 'link', 'possible'], ['Hi', 'sir', '', 'close', 'widow', 'without', 'quit', 'close', 'method', '', 'interview', 'question', '', 'plz', 'help'], ['anyone', 'help', '', 'assignment', 'grabbed', 'link', 'inside', 'list', 'able', 'click', ''], ['superb', 'sir', 'thankkkkkkkkkkkkkkkkkkkkkkkkkkkkkkkkkkkkkkkkkkkkkk', 'much'], ['hi', 'sir', 'join', 'membership', 'want', 'manual', 'testing', 'nots', 'please', 'sir'], ['pin', 'pdf']]\n"
     ]
    }
   ],
   "source": [
    "import re\n",
    "# remove punctuation marks\n",
    "cleaned_comments=[]\n",
    "for comment_tokens in lemmatized_comments:\n",
    "    cleaned_tokens = [re.sub(r'[^a-zA-Z0-9]', '', token) for token in comment_tokens]\n",
    "    cleaned_comments.append(cleaned_tokens)\n",
    "\n",
    "print(cleaned_comments)"
   ]
  },
  {
   "cell_type": "code",
   "execution_count": 57,
   "id": "2d4fc5e8",
   "metadata": {},
   "outputs": [
    {
     "name": "stdout",
     "output_type": "stream",
     "text": [
      "[['request', 'kindly', 'provide', 'notepad', 'note', 'sir', '', 'll', 'highly', 'helpful', 'revise', 'topic', 'short', 'time', 'always', 's', 'possible', 'look', 'entire', 'video', 'series', 'right', 'interview'], ['hi', 'sir', '', 'many', 'total', 'video', 'selenium', 'python', 'playlist', '', '', ''], ['great', 'learning', 'experience', 'sir', '', 'thank', ''], ['1', '', 'among', 'valid', 'way', 'configuring', '1', '', 'entity', 'class', 'mapped', 'using', 'xml', '2', '', 'using', 'set', 'property', '', '', 'method', '3', '', 'entity', 'class', 'mapped', 'using', 'annotation'], ['hi', 'sir', 'want', 'automate', 'web', 'based', 'ssh', 'possible', '', 'please', 'make', 'video', ''], ['thanks', 'great', 'video', '', 'really', 'learnt', 'lot', '', 'however', '', 'try', 'complete', 'assignment', '', 'm', 'able', 'locate', 'search', 'result', 'searching', 'box', '', 'please', 'explain', ''], ['thanks', 'lot', 'sir', '', 'helpful', 'video'], ['hello', '', 'anybody', 'completed', 'exercise', 'please', 'let', 'know', 'unable', 'move', 'ahead', 'searching', 'selenium', 'searchbox', '', 'need', 'know', 'select', 'different', 'selenium', 'link', 'displayed', 'webpage', '', 'thanks'], ['sir', '', 'handle', 'double', 'alert', 'windows', ''], ['good', 'presentation', 'sir', '', 'switch', 'alert', 'working', 'device', '', 'showing', 'message', 'no', 'alert', '', ''], ['hi', 'pavan', '', 'said', 'website', '', 'paid', '21999', 'r', 'qa', 'oct', '6th', 'batch', 'class', '', 'already', 'sent', 'mail', 'payment', 'detail', 'attached', 'concern', 'mail', '', 'havent', 'got', 'update', 'payment', 'received', 'confirmation', 'mail', 'sought', 'concern', '', 'even', 'tried', 'get', 'contact', 'couldnt', 'succeed', '', 'approach', 'make', 'sure', 'slot', 'bacth', 'knowing', 'payment', 'confirmation', '', 'kindly', 'please', 'let', 'u', 'know', 'earliest', 'convenience', ''], ['sir', 'nt', 'use', 'getwindowhandle', '', 'getwindowhandles', 'handle', 'popup'], ['keep', 'good', 'work', 'sir'], ['anyone', 'complete', 'assignment', '', 'searching', 'selenium', '', 'nt', 'know', 'locate', 'first', 'option', 'selenium', '', 'would', 'anyone', 'able', 'help', ''], ['', 'http', '', 'wwwyoutubecom', '', 'sdetpavan', 'sir', 'inner', 'frame', 'element', 'accessed', 'please', 'check', 'support', '', 'traceback', '', 'recent', 'call', 'last', '', '', 'file', '', 'c', '', 'usersadminpycharmprojectsseleniumpythonlearningsleniumcommands'], ['hi', 'sir', '', 'please', 'make', 'video', 'ruby', 'automation', 'engineer', 'role', 'thank'], ['great', 'work', 'sir'], ['anyone', 'explain', 'capture', 'search', 'result', '', '', ''], ['able', 'access', 'different', 'link', 'neither', 'findelement', 'assigning', 'varible', 'findelements', 'extracting', 'using', 'loop', '', 'could', 'anyone', 'please', 'help', 'understand', 'access', 'selenium', 'link', '', 'assignment', ''], ['hi', 'pavan', 'follow', 'every', 'vdo', 'post', 'youtube', '', 'right', 'really', 'need', 'big', 'favour', 'testing', 'background', '', 'manager', 'asked', 'set', 'ci', 'cd', 'process', 'nodejs', 'application', 'jenkins'], ['thanks', 'sir'], ['hi', 'sir', 'want', 'join', 'online', 'course', 'manual', 'testing', 'provide', 'class', 'online'], ['sir', 'explain', 'task', 'given', 'u', 'searching', 'selenium', 'select', 'selenium', 'link', 'possible'], ['hi', 'sir', '', 'close', 'widow', 'without', 'quit', 'close', 'method', '', 'interview', 'question', '', 'plz', 'help'], ['anyone', 'help', '', 'assignment', 'grabbed', 'link', 'inside', 'list', 'able', 'click', ''], ['superb', 'sir', 'thankkkkkkkkkkkkkkkkkkkkkkkkkkkkkkkkkkkkkkkkkkkkkk', 'much'], ['hi', 'sir', 'join', 'membership', 'want', 'manual', 'testing', 'nots', 'please', 'sir'], ['pin', 'pdf']]\n"
     ]
    }
   ],
   "source": [
    "\n",
    "normalized_comments = []\n",
    "\n",
    "for comment_tokens in cleaned_comments:\n",
    "    normalized_tokens = [token.lower() for token in comment_tokens]\n",
    "    normalized_comments.append(normalized_tokens)\n",
    "\n",
    "print(normalized_comments)\n"
   ]
  },
  {
   "cell_type": "code",
   "execution_count": 58,
   "id": "21799cc1",
   "metadata": {},
   "outputs": [
    {
     "name": "stdout",
     "output_type": "stream",
     "text": [
      " 67\n",
      "sir 19\n",
      "hi 8\n",
      "selenium 8\n",
      "please 8\n",
      "video 6\n",
      "link 5\n",
      "anyone 5\n",
      "class 4\n",
      "using 4\n"
     ]
    }
   ],
   "source": [
    "from collections import Counter\n",
    "\n",
    "# Assuming 'normalized_comments' is a list of normalized comments\n",
    "word_frequency = Counter()\n",
    "\n",
    "for comment_tokens in normalized_comments:\n",
    "    word_frequency.update(comment_tokens)\n",
    "\n",
    "# Print the most common words and their frequencies\n",
    "for word, freq in word_frequency.most_common(10):\n",
    "    print(word, freq)\n"
   ]
  },
  {
   "cell_type": "code",
   "execution_count": 59,
   "id": "0abbedb6",
   "metadata": {},
   "outputs": [],
   "source": [
    "from nltk.sentiment import SentimentIntensityAnalyzer"
   ]
  },
  {
   "cell_type": "code",
   "execution_count": 60,
   "id": "bdb5af59",
   "metadata": {},
   "outputs": [
    {
     "name": "stdout",
     "output_type": "stream",
     "text": [
      "['Very Positive', 'Neutral', 'Very Positive', 'Neutral', 'Positive', 'Very Positive', 'Very Positive', 'Very Positive', 'Positive', 'Very Positive', 'Very Positive', 'Neutral', 'Positive', 'Positive', 'Very Positive', 'Very Positive', 'Very Positive', 'Neutral', 'Very Positive', 'Positive', 'Positive', 'Positive', 'Neutral', 'Positive', 'Positive', 'Very Positive', 'Very Positive', 'Neutral']\n"
     ]
    }
   ],
   "source": [
    "sid = SentimentIntensityAnalyzer()\n",
    "\n",
    "sentiments=[]\n",
    "sentiment_counts = {'Very Negative': 0, 'Negative': 0, 'Neutral': 0, 'Positive': 0, 'Very Positive': 0}\n",
    "\n",
    "for comment in normalized_comments:\n",
    "    sentiment_scores = sid.polarity_scores(' '.join(comment))\n",
    "    sentiment = sentiment_scores['compound']\n",
    "\n",
    "    if sentiment >= 0.5:\n",
    "        sentiments.append('Very Positive')\n",
    "        sentiment_counts['Very Positive'] +=1\n",
    "    elif sentiment >= 0.05:\n",
    "        sentiments.append('Positive')\n",
    "        sentiment_counts['Positive'] +=1\n",
    "    elif sentiment <= -0.5:\n",
    "        sentiments.append('Very Negative')\n",
    "        sentiment_counts['Very Negative'] +=1\n",
    "    elif sentiment <= -0.05:\n",
    "        sentiments.append('Negative')\n",
    "        sentiment_counts['Negative'] +=1\n",
    "    else:\n",
    "        sentiments.append('Neutral')\n",
    "        sentiment_counts['Neutral'] +=1\n",
    "        \n",
    "print(sentiments)\n",
    "\n"
   ]
  },
  {
   "cell_type": "code",
   "execution_count": 61,
   "id": "0f71e163",
   "metadata": {},
   "outputs": [
    {
     "data": {
      "image/png": "[encoded data removed]",
      "text/plain": [
       "<Figure size 640x480 with 1 Axes>"
      ]
     },
     "metadata": {},
     "output_type": "display_data"
    }
   ],
   "source": [
    "import matplotlib.pyplot as plt\n",
    "\n",
    "# Create a bar chart\n",
    "labels = sentiment_counts.keys()\n",
    "values = sentiment_counts.values()\n",
    "\n",
    "plt.bar(labels, values)\n",
    "plt.xlabel('Sentiment')\n",
    "plt.ylabel('Count')\n",
    "plt.title('Sentiment Analysis Results')\n",
    "plt.show()"
   ]
  },
  {
   "cell_type": "code",
   "execution_count": null,
   "id": "a2c71df1",
   "metadata": {},
   "outputs": [],
   "source": []
  },
  {
   "cell_type": "code",
   "execution_count": null,
   "id": "4ced1502",
   "metadata": {},
   "outputs": [],
   "source": []
  }
 ],
 "metadata": {
  "kernelspec": {
   "display_name": "Python 3 (ipykernel)",
   "language": "python",
   "name": "python3"
  },
  "language_info": {
   "codemirror_mode": {
    "name": "ipython",
    "version": 3
   },
   "file_extension": ".py",
   "mimetype": "text/x-python",
   "name": "python",
   "nbconvert_exporter": "python",
   "pygments_lexer": "ipython3",
   "version": "3.10.11"
  }
 },
 "nbformat": 4,
 "nbformat_minor": 5
}
